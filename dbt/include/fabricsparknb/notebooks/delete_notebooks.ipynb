{
 "cells": [
  {
   "cell_type": "code",
   "execution_count": null,
   "metadata": {},
   "outputs": [],
   "source": [
    "workspace_id = spark.conf.get(\"trident.workspace.id\") # type: ignore\n",
    "nbs = get_notebooks(workspace_id)\n",
    "for n in nbs:\n",
    "    if n['displayName'].startswith('Meta'):\n",
    "        print(n['displayName'])\n",
    "\n",
    "        api_endpoint = \"api.fabric.microsoft.com\"\n",
    "        pbi_token = mssparkutils.credentials.getToken('https://analysis.windows.net/powerbi/api') \n",
    "\n",
    "        url = f\"https://{api_endpoint}/v1/workspaces/{workspace_id}/items/{n['id']}\"\n",
    "\n",
    "        headers = {\n",
    "            'Authorization': f'Bearer {pbi_token}',\n",
    "            'Content-Type': 'application/json'\n",
    "        }\n",
    "\n",
    "        response = requests.request(\"DELETE\", url, headers=headers)"
   ]
  }
 ],
 "metadata": {
  "language_info": {
   "name": "python"
  }
 },
 "nbformat": 4,
 "nbformat_minor": 2
}
