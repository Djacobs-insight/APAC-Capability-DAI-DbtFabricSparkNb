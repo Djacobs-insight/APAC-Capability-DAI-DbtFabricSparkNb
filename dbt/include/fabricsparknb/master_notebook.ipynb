{
 "cells": [
  {
   "cell_type": "markdown",
   "metadata": {},
   "source": [
    "# Declare Functions"
   ]
  },
  {
   "cell_type": "code",
   "execution_count": null,
   "metadata": {},
   "outputs": [],
   "source": [
    "\n",
    "from notebookutils import mssparkutils\n",
    "from concurrent.futures import ThreadPoolExecutor\n",
    "\n",
    "#\n",
    "notebook_files1 = {{ notebook_files }}\n",
    "\n",
    "# Define a function to execute a notebook\n",
    "def execute_notebook(notebook_file):\n",
    "    mssparkutils.notebook.run(notebook_file)\n",
    "\n"
   ]
  },
  {
   "cell_type": "markdown",
   "metadata": {},
   "source": [
    "# Execute Notebooks "
   ]
  },
  {
   "cell_type": "code",
   "execution_count": null,
   "metadata": {},
   "outputs": [],
   "source": [
    "# Use a ThreadPoolExecutor to run the notebooks in parallel\n",
    "with ThreadPoolExecutor(max_workers=5) as executor:\n",
    "    executor.map(execute_notebook, notebook_files1)"
   ]
  }
 ],
 "metadata": {
  "language_info": {
   "name": "python"
  }
 },
 "nbformat": 4,
 "nbformat_minor": 2
}
