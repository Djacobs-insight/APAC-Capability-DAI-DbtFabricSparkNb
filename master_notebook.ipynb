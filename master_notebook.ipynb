{
 "cells": [
  {
   "cell_type": "code",
   "execution_count": null,
   "id": "fd2b65e9",
   "metadata": {},
   "outputs": [],
   "source": [
    "%%bash\n",
    "jupyter nbconvert --execute ./testproj/target/notebooks/model.testproj.my_first_dbt_model.ipynb"
   ]
  },
  {
   "cell_type": "code",
   "execution_count": null,
   "id": "a19dd32f",
   "metadata": {},
   "outputs": [],
   "source": [
    "%%bash\n",
    "jupyter nbconvert --execute ./testproj/target/notebooks/model.testproj.my_second_dbt_model.ipynb"
   ]
  }
 ],
 "metadata": {},
 "nbformat": 4,
 "nbformat_minor": 5
}
